{
 "cells": [
  {
   "attachments": {},
   "cell_type": "markdown",
   "id": "7bb1ce96",
   "metadata": {},
   "source": [
    "# Women's basketball analysis "
   ]
  },
  {
   "attachments": {},
   "cell_type": "markdown",
   "id": "f87671dd",
   "metadata": {},
   "source": [
    "### Reading in data ###"
   ]
  },
  {
   "cell_type": "code",
   "execution_count": null,
   "id": "33de535a-a16e-4422-a7f3-e27597b8fc08",
   "metadata": {},
   "outputs": [],
   "source": [
    "import pandas as pd\n",
    "import numpy as np\n",
    "import seaborn as sns\n",
    "import matplotlib.pyplot as plt\n",
    "\n",
    "df = pd.read_excel(\"WBB.xlsx\").dropna(axis='index', how='all')\n",
    "df = df.reset_index(drop=True)\n",
    "\n",
    "df"
   ]
  },
  {
   "attachments": {},
   "cell_type": "markdown",
   "id": "59caa086",
   "metadata": {},
   "source": [
    "### Subset with only game (Q1-Q4) data ###"
   ]
  },
  {
   "cell_type": "code",
   "execution_count": null,
   "id": "7c1878a7",
   "metadata": {},
   "outputs": [],
   "source": [
    "game_df = df[df['Types'].isin(['Q1', 'Q2', 'Q3', 'Q4'])]\n",
    "game_df = game_df.reset_index(drop=True)\n",
    "game_df.head(50)"
   ]
  },
  {
   "attachments": {},
   "cell_type": "markdown",
   "id": "5a406d41",
   "metadata": {},
   "source": [
    "### Add **Game Total** row to `game_df` ###"
   ]
  },
  {
   "cell_type": "code",
   "execution_count": null,
   "id": "440dc370",
   "metadata": {},
   "outputs": [],
   "source": [
    "dates = game_df['Phase begin date (UTC)'].unique()\n",
    "names = game_df['Name'].unique()\n",
    "\n",
    "\n",
    "for date in dates:\n",
    "    AALs = []\n",
    "    for name in names:\n",
    "        AAL_sum = game_df.loc[(game_df['Phase begin date (UTC)'] == date) & (game_df['Name'] == name), 'Accumulated Acceleration Load'].replace(0, np.nan).sum()\n",
    "        AAL_max = game_df.loc[(game_df['Phase begin date (UTC)'] == date) & (game_df['Name'] == name), 'Accumulated Acceleration Load'].replace(0, np.nan).max()\n",
    "        AAL_min = game_df.loc[(game_df['Phase begin date (UTC)'] == date) & (game_df['Name'] == name), 'Accumulated Acceleration Load'].replace(0, np.nan).min()\n",
    "        if AAL_sum >= 0.00000001:\n",
    "            AALs.append(AAL_sum)\n",
    "        row = ({\n",
    "            'Name': name,\n",
    "            'Types': 'Game',\n",
    "            'Phase begin date (UTC)': date,\n",
    "            'Phase end date (UTC)': date,\n",
    "            'Game Total': AAL_sum,\n",
    "            'Game Max': AAL_max,\n",
    "            'Game Min': AAL_min\n",
    "        })\n",
    "        df2 = pd.DataFrame(row, index=[len(game_df)])\n",
    "        game_df = pd.concat([game_df, df2])\n",
    "    row = ({\n",
    "        'Name': 'Team',\n",
    "        'Types': 'Game',\n",
    "        'Phase begin date (UTC)': date,\n",
    "        'Phase end date (UTC)': date,\n",
    "        'Game Total': sum(AALs) / len(AALs)\n",
    "    })\n",
    "    df2 = pd.DataFrame(row, index=[len(game_df)])\n",
    "    game_df = pd.concat([game_df, df2])\n",
    "game_df = game_df.sort_values(['Phase begin date (UTC)', 'Phase ID']).drop_duplicates()\n",
    "game_df.tail(60)\n",
    "    \n",
    "    "
   ]
  },
  {
   "attachments": {},
   "cell_type": "markdown",
   "id": "81f5dcc7",
   "metadata": {},
   "source": [
    "### Plot most recent game ###"
   ]
  },
  {
   "cell_type": "code",
   "execution_count": null,
   "id": "c09048f7",
   "metadata": {},
   "outputs": [],
   "source": [
    "recent = game_df.loc[(game_df['Phase begin date (UTC)'] == dates[-1]) & (game_df['Types'] == 'Game'), ['Name', 'Game Total', 'Game Max', 'Game Min']].round()\n",
    "recent = recent.set_index('Name')\n",
    "\n",
    "sns.set_style('darkgrid')\n",
    "fig = recent.plot.bar(color={'Game Total': '#7BAFD4', 'Game Max': '#039C07', 'Game Min': '#DC392F'}, grid=True, width=.7, linewidth=1)\n",
    "\n",
    "plt.title(str(dates[-1])[0:10])\n",
    "plt.xlabel('')\n",
    "plt.ylabel('Accumulated Acceleration Load (Q1-Q4)')\n",
    "plt.yticks(range(0, int(recent['Game Total'].max()) + 100, 100))\n",
    "\n",
    "for i in range(len(fig.containers)):\n",
    "    fig.bar_label(fig.containers[i])\n"
   ]
  },
  {
   "attachments": {},
   "cell_type": "markdown",
   "id": "a1b55ed3",
   "metadata": {},
   "source": [
    "### Add  **season total** row to `game_df` ###"
   ]
  },
  {
   "cell_type": "code",
   "execution_count": null,
   "id": "66f289b5",
   "metadata": {},
   "outputs": [],
   "source": [
    "names = list(names)\n",
    "names.append('Team')\n",
    "for name in names:\n",
    "    season_avg = game_df.loc[game_df['Name'] == name, 'Game Total'].mean()\n",
    "    row = ({\n",
    "        'Name': name,\n",
    "        'Types': 'Season',\n",
    "        'Season Average': season_avg\n",
    "    })\n",
    "    df2 = pd.DataFrame(row, index=[len(game_df)])\n",
    "    game_df = pd.concat([game_df, df2])\n",
    "game_df = game_df.sort_values(['Phase begin date (UTC)', 'Phase ID']).drop_duplicates()\n",
    "\n",
    "game_df.tail(60)"
   ]
  },
  {
   "attachments": {},
   "cell_type": "markdown",
   "id": "a356aada",
   "metadata": {},
   "source": [
    "### Plot season averages ###"
   ]
  },
  {
   "cell_type": "code",
   "execution_count": null,
   "id": "9e7bdb04",
   "metadata": {},
   "outputs": [],
   "source": [
    "season = game_df.copy()\n",
    "\n",
    "if 'Team' in names:\n",
    "    names.pop()\n",
    "\n",
    "season = game_df.loc[game_df['Types'] == 'Season', ['Name', 'Season Average']]\n",
    "\n",
    "for name in names:\n",
    "    season.loc[season['Name'] == name, 'Highest Game'] = game_df.loc[(game_df['Name'] == name) & (game_df['Types'] == 'Game'), 'Game Total'].replace(0, np.nan).max()\n",
    "    season.loc[season['Name'] == name, 'Lowest Game'] = game_df.loc[(game_df['Name'] == name) & (game_df['Types'] == 'Game'), 'Game Total'].replace(0, np.nan).min()\n",
    "season = season.set_index('Name').round()    \n",
    "\n",
    "sns.set_style('darkgrid')\n",
    "fig = season.plot.bar(color={'Season Average': '#7BAFD4', 'Highest Game': '#039C07', 'Lowest Game': '#DC392F'}, grid=True, width=.7, linewidth=1)\n",
    "\n",
    "today = np.datetime64('today', 'D')\n",
    "\n",
    "plt.title(f'Season (created {today})')\n",
    "plt.xlabel('')\n",
    "plt.ylabel('Accumulated Acceleration Load')\n",
    "plt.yticks(range(0, int(season['Highest Game'].max()) + 100, 100))\n",
    "\n",
    "for i in range(len(fig.containers)):\n",
    "    fig.bar_label(fig.containers[i])"
   ]
  },
  {
   "cell_type": "code",
   "execution_count": null,
   "id": "a52c0958",
   "metadata": {},
   "outputs": [],
   "source": [
    "%load_ext watermark\n",
    "%watermark -v -m -p pandas,numpy,seaborn,matplotlib,openpyxl "
   ]
  }
 ],
 "metadata": {
  "kernelspec": {
   "display_name": "Python 3",
   "language": "python",
   "name": "python3"
  },
  "language_info": {
   "codemirror_mode": {
    "name": "ipython",
    "version": 3
   },
   "file_extension": ".py",
   "mimetype": "text/x-python",
   "name": "python",
   "nbconvert_exporter": "python",
   "pygments_lexer": "ipython3",
   "version": "3.9.6"
  },
  "vscode": {
   "interpreter": {
    "hash": "aee8b7b246df8f9039afb4144a1f6fd8d2ca17a180786b69acc140d282b71a49"
   }
  }
 },
 "nbformat": 4,
 "nbformat_minor": 5
}
